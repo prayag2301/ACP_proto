{
 "cells": [
  {
   "cell_type": "markdown",
   "metadata": {},
   "source": [
    "# Feature Engineering → Define enrichment parameters (team size, leadership, budget), test their extraction\n",
    "Define - which parameters to extracts Sales and Sven (discuss feedback, send a another survey)\n",
    "Test - with (our and external) NLPs and LLMs\n",
    "For some params - agent should also have a search capacity\n",
    "(external tools) OpenAI (DeepSeek) - ?/10 quality\n",
    "(our own model) BERT\n",
    "BERT - ?/10 quality\n",
    "other...\n",
    "Iterate (check if it works, get approved by Sven and scales)\n",
    "Check which params work and do not work"
   ]
  },
  {
   "cell_type": "markdown",
   "metadata": {},
   "source": [
    "## Importing Libraries"
   ]
  },
  {
   "cell_type": "code",
   "execution_count": 1,
   "metadata": {},
   "outputs": [],
   "source": [
    "import pandas as pd\n",
    "import numpy as np\n",
    "import matplotlib.pyplot as plt\n",
    "import seaborn as sns"
   ]
  },
  {
   "cell_type": "code",
   "execution_count": 2,
   "metadata": {},
   "outputs": [
    {
     "name": "stderr",
     "output_type": "stream",
     "text": [
      "/Library/Frameworks/Python.framework/Versions/3.11/lib/python3.11/site-packages/openpyxl/worksheet/_reader.py:329: UserWarning: Data Validation extension is not supported and will be removed\n",
      "  warn(msg)\n"
     ]
    }
   ],
   "source": [
    "df_cv_sample = pd.read_excel('30_sample_users_cleaned.xlsx')\n",
    "enrichment_params = pd.read_excel('ACP - Enrichment Parameters.xlsx')"
   ]
  },
  {
   "cell_type": "code",
   "execution_count": null,
   "metadata": {},
   "outputs": [],
   "source": [
    "df_cv_sample.head()"
   ]
  },
  {
   "cell_type": "code",
   "execution_count": null,
   "metadata": {},
   "outputs": [],
   "source": [
    "# Check type of data in each column\n",
    "df_cv_sample.dtypes"
   ]
  },
  {
   "cell_type": "code",
   "execution_count": 5,
   "metadata": {},
   "outputs": [],
   "source": [
    "# Check for missing values\n",
    "df_cv_sample.isnull().sum()\n",
    "\n",
    "# Fill missing values with 0\n",
    "df_cv_sample.fillna(0, inplace=True)"
   ]
  },
  {
   "cell_type": "code",
   "execution_count": null,
   "metadata": {},
   "outputs": [],
   "source": [
    "# Print column names\n",
    "df_cv_sample.columns"
   ]
  },
  {
   "cell_type": "code",
   "execution_count": null,
   "metadata": {},
   "outputs": [],
   "source": [
    "df_cv_sample.experience[0]"
   ]
  },
  {
   "cell_type": "code",
   "execution_count": null,
   "metadata": {},
   "outputs": [],
   "source": [
    "enrichment_params.head()"
   ]
  },
  {
   "cell_type": "code",
   "execution_count": null,
   "metadata": {},
   "outputs": [],
   "source": [
    "import openai\n",
    "import pandas as pd\n",
    "import json\n",
    "from tqdm import tqdm\n",
    "import os\n",
    "\n",
    "# New style client for OpenAI v1.x\n",
    "client = openai.OpenAI(api_key=os.getenv(\"OPENAI_API_KEY\"))\n",
    "\n",
    "def enrich_experience(entry): #TODO: Implement websearch to get company type, industry, etc.\n",
    "    # Skip non-dict entries\n",
    "    if not isinstance(entry, dict):\n",
    "        return {\n",
    "            \"company_type\": \"Unknown\",\n",
    "            \"industry\": \"Unknown\",\n",
    "            \"leadership_scope\": \"Unknown\",\n",
    "            \"team_size_managed\": \"Unknown\",\n",
    "            \"budget_responsibility\": \"Unknown\"\n",
    "        }\n",
    "\n",
    "    company = entry.get('organization_name', 'Unknown')\n",
    "    role = entry.get('title', 'Unknown')\n",
    "    city = entry.get('city', 'Unknown')\n",
    "    start = entry.get('start_date', 'Unknown')\n",
    "    end = entry.get('end_date', 'Unknown')\n",
    "\n",
    "    prompt = f\"\"\"\n",
    "    You are an expert recruiter. Based on the following job experience details, classify:\n",
    "    1. Company Type (Startup / PE-backed / Corporate / Unknown)\n",
    "    2. Industry (e.g., Retail, Automotive, Consulting, etc.)\n",
    "    3. Leadership Scope (Operational / Strategic / Both / Unknown)\n",
    "    4. Team Size Managed (number or Unknown)\n",
    "    5. Budget Responsibility (amount or Unknown)\n",
    "\n",
    "    Company Name: {company}\n",
    "    Job Title: {role}\n",
    "    City: {city}\n",
    "    Dates: {start} to {end}\n",
    "\n",
    "    Return the answers in JSON format like this:\n",
    "    {{\n",
    "      \"company_type\": \"PE-backed\",\n",
    "      \"industry\": \"Consumer Goods\",\n",
    "      \"leadership_scope\": \"Strategic\",\n",
    "      \"team_size_managed\": \"10-20\",\n",
    "      \"budget_responsibility\": \"€1M-€5M\"\n",
    "    }}\n",
    "    \"\"\"\n",
    "\n",
    "    try:\n",
    "        response = client.chat.completions.create(\n",
    "            model='gpt-3.5-turbo',\n",
    "            # model = 'gpt-4o-mini-search-preview',\n",
    "            # model='gpt-4o',\n",
    "            messages=[{\"role\": \"user\", \"content\": prompt}],\n",
    "            temperature=0\n",
    "        )\n",
    "\n",
    "        content = response.choices[0].message.content.strip()\n",
    "\n",
    "        # Convert JSON from model\n",
    "        json_result = json.loads(content)\n",
    "    except Exception as e:\n",
    "        print(f\"Error: {e}\")\n",
    "        json_result = {\n",
    "            \"company_type\": \"Unknown\",\n",
    "            \"industry\": \"Unknown\",\n",
    "            \"leadership_scope\": \"Unknown\",\n",
    "            \"team_size_managed\": \"Unknown\",\n",
    "            \"budget_responsibility\": \"Unknown\"\n",
    "        }\n",
    "\n",
    "    return json_result\n",
    "\n",
    "def process_experience_column(experience_column):\n",
    "    enriched_profiles = []\n",
    "    for exp_json in tqdm(experience_column):\n",
    "        profile_results = []\n",
    "        try:\n",
    "            if pd.isna(exp_json) or not isinstance(exp_json, str):\n",
    "                enriched_profiles.append([])\n",
    "                continue\n",
    "\n",
    "            # Fix common JSON issues\n",
    "            exp_json_cleaned = (\n",
    "                exp_json.replace(\"√§\", \"ä\")\n",
    "                        .replace(\"√º\", \"ü\")\n",
    "                        .replace(\"√ñ\", \"Ö\")\n",
    "                        .replace(\"'\", '\"')\n",
    "            )\n",
    "            experiences = json.loads(exp_json_cleaned)\n",
    "\n",
    "            # Ensure it's a list of dictionaries\n",
    "            if isinstance(experiences, dict):\n",
    "                experiences = [experiences]\n",
    "            elif not isinstance(experiences, list):\n",
    "                enriched_profiles.append([])\n",
    "                continue\n",
    "\n",
    "            for entry in experiences:\n",
    "                enriched = enrich_experience(entry)\n",
    "                enriched_entry = {\n",
    "                    \"organization_name\": entry.get('organization_name', ''),\n",
    "                    \"role\": entry.get('title', ''),\n",
    "                    **enriched\n",
    "                }\n",
    "                profile_results.append(enriched_entry)\n",
    "                print(enriched_entry)\n",
    "\n",
    "        except Exception as e:\n",
    "            print(f\"Error processing profile: {e}\")\n",
    "            profile_results.append({\"error\": str(e)})\n",
    "\n",
    "        enriched_profiles.append(profile_results)\n",
    "\n",
    "    return enriched_profiles\n",
    "\n",
    "# Example DataFrame\n",
    "df = df_cv_sample.copy().head(2)\n",
    "\n",
    "# Process experiences\n",
    "df['enriched_experience'] = process_experience_column(df['experience'])\n",
    "\n",
    "# Save output\n",
    "df.to_json('enriched_experience_output.json', orient='records')"
   ]
  }
 ],
 "metadata": {
  "kernelspec": {
   "display_name": "Python 3",
   "language": "python",
   "name": "python3"
  },
  "language_info": {
   "codemirror_mode": {
    "name": "ipython",
    "version": 3
   },
   "file_extension": ".py",
   "mimetype": "text/x-python",
   "name": "python",
   "nbconvert_exporter": "python",
   "pygments_lexer": "ipython3",
   "version": "3.11.4"
  }
 },
 "nbformat": 4,
 "nbformat_minor": 2
}
